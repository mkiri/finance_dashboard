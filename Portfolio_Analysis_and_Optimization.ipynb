{
 "cells": [
  {
   "cell_type": "markdown",
   "metadata": {},
   "source": [
    "# Portfolio Analysis\n",
    "\n",
    "This code can be used to perform analysis for a given portfolio. Based on the units held and average purchase price, the book value and market value can be compared. \n",
    "\n",
    "The existing holdings will also be evaluated against commonly used portfolio optimization techniques.\n",
    "* Minimum variance\n",
    "* Maximum return\n",
    "* Equally-weighted\n",
    "* Maximum Sharpe ratio"
   ]
  },
  {
   "cell_type": "code",
   "execution_count": 1,
   "metadata": {},
   "outputs": [],
   "source": [
    "# Import libraries\n",
    "import pandas as pd\n",
    "import numpy as np\n",
    "import matplotlib.pyplot as plt\n",
    "from datetime import date\n",
    "from dateutil.relativedelta import relativedelta\n",
    "import pandas_datareader as pdr\n",
    "import cvxpy as cp\n",
    "\n",
    "import warnings\n",
    "warnings.filterwarnings(\"ignore\")\n",
    "\n",
    "# Set new default style for plotting\n",
    "plt.style.use('ggplot')"
   ]
  },
  {
   "cell_type": "markdown",
   "metadata": {},
   "source": [
    "## Load File"
   ]
  },
  {
   "cell_type": "code",
   "execution_count": 2,
   "metadata": {},
   "outputs": [
    {
     "data": {
      "text/html": [
       "<div>\n",
       "<style scoped>\n",
       "    .dataframe tbody tr th:only-of-type {\n",
       "        vertical-align: middle;\n",
       "    }\n",
       "\n",
       "    .dataframe tbody tr th {\n",
       "        vertical-align: top;\n",
       "    }\n",
       "\n",
       "    .dataframe thead th {\n",
       "        text-align: right;\n",
       "    }\n",
       "</style>\n",
       "<table border=\"1\" class=\"dataframe\">\n",
       "  <thead>\n",
       "    <tr style=\"text-align: right;\">\n",
       "      <th></th>\n",
       "      <th>Symbol</th>\n",
       "      <th>Units</th>\n",
       "      <th>Average Purchase Price</th>\n",
       "    </tr>\n",
       "  </thead>\n",
       "  <tbody>\n",
       "    <tr>\n",
       "      <th>0</th>\n",
       "      <td>LSPD</td>\n",
       "      <td>600</td>\n",
       "      <td>45</td>\n",
       "    </tr>\n",
       "    <tr>\n",
       "      <th>1</th>\n",
       "      <td>SHOP</td>\n",
       "      <td>50</td>\n",
       "      <td>823</td>\n",
       "    </tr>\n",
       "    <tr>\n",
       "      <th>2</th>\n",
       "      <td>SU</td>\n",
       "      <td>400</td>\n",
       "      <td>30</td>\n",
       "    </tr>\n",
       "    <tr>\n",
       "      <th>3</th>\n",
       "      <td>BAM</td>\n",
       "      <td>800</td>\n",
       "      <td>40</td>\n",
       "    </tr>\n",
       "  </tbody>\n",
       "</table>\n",
       "</div>"
      ],
      "text/plain": [
       "  Symbol  Units  Average Purchase Price\n",
       "0   LSPD    600                      45\n",
       "1   SHOP     50                     823\n",
       "2     SU    400                      30\n",
       "3    BAM    800                      40"
      ]
     },
     "execution_count": 2,
     "metadata": {},
     "output_type": "execute_result"
    }
   ],
   "source": [
    "# Load CSV into pandas dataframe\n",
    "infile = 'portfolio_example.csv'\n",
    "portf = pd.read_csv(infile)\n",
    "portf.head()"
   ]
  },
  {
   "cell_type": "markdown",
   "metadata": {},
   "source": [
    "## Book Value vs Market Value"
   ]
  },
  {
   "cell_type": "code",
   "execution_count": 3,
   "metadata": {},
   "outputs": [
    {
     "data": {
      "text/html": [
       "<div>\n",
       "<style scoped>\n",
       "    .dataframe tbody tr th:only-of-type {\n",
       "        vertical-align: middle;\n",
       "    }\n",
       "\n",
       "    .dataframe tbody tr th {\n",
       "        vertical-align: top;\n",
       "    }\n",
       "\n",
       "    .dataframe thead th {\n",
       "        text-align: right;\n",
       "    }\n",
       "</style>\n",
       "<table border=\"1\" class=\"dataframe\">\n",
       "  <thead>\n",
       "    <tr style=\"text-align: right;\">\n",
       "      <th></th>\n",
       "      <th>Symbol</th>\n",
       "      <th>Units</th>\n",
       "      <th>Average Purchase Price</th>\n",
       "      <th>Last Adj Close</th>\n",
       "    </tr>\n",
       "  </thead>\n",
       "  <tbody>\n",
       "    <tr>\n",
       "      <th>0</th>\n",
       "      <td>LSPD</td>\n",
       "      <td>600</td>\n",
       "      <td>45</td>\n",
       "      <td>72.760002</td>\n",
       "    </tr>\n",
       "    <tr>\n",
       "      <th>1</th>\n",
       "      <td>SHOP</td>\n",
       "      <td>50</td>\n",
       "      <td>823</td>\n",
       "      <td>1261.430054</td>\n",
       "    </tr>\n",
       "    <tr>\n",
       "      <th>2</th>\n",
       "      <td>SU</td>\n",
       "      <td>400</td>\n",
       "      <td>30</td>\n",
       "      <td>23.540001</td>\n",
       "    </tr>\n",
       "    <tr>\n",
       "      <th>3</th>\n",
       "      <td>BAM</td>\n",
       "      <td>800</td>\n",
       "      <td>40</td>\n",
       "      <td>49.360001</td>\n",
       "    </tr>\n",
       "  </tbody>\n",
       "</table>\n",
       "</div>"
      ],
      "text/plain": [
       "  Symbol  Units  Average Purchase Price  Last Adj Close\n",
       "0   LSPD    600                      45       72.760002\n",
       "1   SHOP     50                     823     1261.430054\n",
       "2     SU    400                      30       23.540001\n",
       "3    BAM    800                      40       49.360001"
      ]
     },
     "execution_count": 3,
     "metadata": {},
     "output_type": "execute_result"
    }
   ],
   "source": [
    "# Get last price for each asset\n",
    "sym = list(portf[\"Symbol\"])\n",
    "dt = date.today()\n",
    "last_prc = pdr.DataReader(sym, start=dt, end=dt, data_source='yahoo')['Adj Close']\n",
    "portf[\"Last Adj Close\"] = list(last_prc[sym].iloc[0])\n",
    "portf.head()"
   ]
  },
  {
   "cell_type": "code",
   "execution_count": 4,
   "metadata": {},
   "outputs": [],
   "source": [
    "# Calculate book value and market value\n",
    "portf[\"Book Value\"] = portf[\"Units\"] * portf[\"Average Purchase Price\"]\n",
    "portf[\"Market Value\"] = portf[\"Units\"] * portf[\"Last Adj Close\"]\n",
    "portf[\"Pct Change\"] = (portf[\"Market Value\"] - portf[\"Book Value\"]) / portf[\"Book Value\"]"
   ]
  },
  {
   "cell_type": "code",
   "execution_count": 5,
   "metadata": {},
   "outputs": [
    {
     "data": {
      "text/html": [
       "<style  type=\"text/css\" >\n",
       "    #T_2969a67e_bcd0_11eb_88a3_945330256908row0_col6 {\n",
       "            color:  green;\n",
       "        }    #T_2969a67e_bcd0_11eb_88a3_945330256908row1_col6 {\n",
       "            color:  green;\n",
       "        }    #T_2969a67e_bcd0_11eb_88a3_945330256908row2_col6 {\n",
       "            color:  red;\n",
       "        }    #T_2969a67e_bcd0_11eb_88a3_945330256908row3_col6 {\n",
       "            color:  green;\n",
       "        }</style><table id=\"T_2969a67e_bcd0_11eb_88a3_945330256908\" ><thead>    <tr>        <th class=\"col_heading level0 col0\" >Symbol</th>        <th class=\"col_heading level0 col1\" >Units</th>        <th class=\"col_heading level0 col2\" >Average Purchase Price</th>        <th class=\"col_heading level0 col3\" >Last Adj Close</th>        <th class=\"col_heading level0 col4\" >Book Value</th>        <th class=\"col_heading level0 col5\" >Market Value</th>        <th class=\"col_heading level0 col6\" >Pct Change</th>    </tr></thead><tbody>\n",
       "                <tr>\n",
       "                                <td id=\"T_2969a67e_bcd0_11eb_88a3_945330256908row0_col0\" class=\"data row0 col0\" >LSPD</td>\n",
       "                        <td id=\"T_2969a67e_bcd0_11eb_88a3_945330256908row0_col1\" class=\"data row0 col1\" >600</td>\n",
       "                        <td id=\"T_2969a67e_bcd0_11eb_88a3_945330256908row0_col2\" class=\"data row0 col2\" >$                  45</td>\n",
       "                        <td id=\"T_2969a67e_bcd0_11eb_88a3_945330256908row0_col3\" class=\"data row0 col3\" >$                  73</td>\n",
       "                        <td id=\"T_2969a67e_bcd0_11eb_88a3_945330256908row0_col4\" class=\"data row0 col4\" >$              27,000</td>\n",
       "                        <td id=\"T_2969a67e_bcd0_11eb_88a3_945330256908row0_col5\" class=\"data row0 col5\" >$              43,656</td>\n",
       "                        <td id=\"T_2969a67e_bcd0_11eb_88a3_945330256908row0_col6\" class=\"data row0 col6\" >61.6889%</td>\n",
       "            </tr>\n",
       "            <tr>\n",
       "                                <td id=\"T_2969a67e_bcd0_11eb_88a3_945330256908row1_col0\" class=\"data row1 col0\" >SHOP</td>\n",
       "                        <td id=\"T_2969a67e_bcd0_11eb_88a3_945330256908row1_col1\" class=\"data row1 col1\" >50</td>\n",
       "                        <td id=\"T_2969a67e_bcd0_11eb_88a3_945330256908row1_col2\" class=\"data row1 col2\" >$                 823</td>\n",
       "                        <td id=\"T_2969a67e_bcd0_11eb_88a3_945330256908row1_col3\" class=\"data row1 col3\" >$               1,261</td>\n",
       "                        <td id=\"T_2969a67e_bcd0_11eb_88a3_945330256908row1_col4\" class=\"data row1 col4\" >$              41,150</td>\n",
       "                        <td id=\"T_2969a67e_bcd0_11eb_88a3_945330256908row1_col5\" class=\"data row1 col5\" >$              63,072</td>\n",
       "                        <td id=\"T_2969a67e_bcd0_11eb_88a3_945330256908row1_col6\" class=\"data row1 col6\" >53.2722%</td>\n",
       "            </tr>\n",
       "            <tr>\n",
       "                                <td id=\"T_2969a67e_bcd0_11eb_88a3_945330256908row2_col0\" class=\"data row2 col0\" >SU</td>\n",
       "                        <td id=\"T_2969a67e_bcd0_11eb_88a3_945330256908row2_col1\" class=\"data row2 col1\" >400</td>\n",
       "                        <td id=\"T_2969a67e_bcd0_11eb_88a3_945330256908row2_col2\" class=\"data row2 col2\" >$                  30</td>\n",
       "                        <td id=\"T_2969a67e_bcd0_11eb_88a3_945330256908row2_col3\" class=\"data row2 col3\" >$                  24</td>\n",
       "                        <td id=\"T_2969a67e_bcd0_11eb_88a3_945330256908row2_col4\" class=\"data row2 col4\" >$              12,000</td>\n",
       "                        <td id=\"T_2969a67e_bcd0_11eb_88a3_945330256908row2_col5\" class=\"data row2 col5\" >$               9,416</td>\n",
       "                        <td id=\"T_2969a67e_bcd0_11eb_88a3_945330256908row2_col6\" class=\"data row2 col6\" >-21.5333%</td>\n",
       "            </tr>\n",
       "            <tr>\n",
       "                                <td id=\"T_2969a67e_bcd0_11eb_88a3_945330256908row3_col0\" class=\"data row3 col0\" >BAM</td>\n",
       "                        <td id=\"T_2969a67e_bcd0_11eb_88a3_945330256908row3_col1\" class=\"data row3 col1\" >800</td>\n",
       "                        <td id=\"T_2969a67e_bcd0_11eb_88a3_945330256908row3_col2\" class=\"data row3 col2\" >$                  40</td>\n",
       "                        <td id=\"T_2969a67e_bcd0_11eb_88a3_945330256908row3_col3\" class=\"data row3 col3\" >$                  49</td>\n",
       "                        <td id=\"T_2969a67e_bcd0_11eb_88a3_945330256908row3_col4\" class=\"data row3 col4\" >$              32,000</td>\n",
       "                        <td id=\"T_2969a67e_bcd0_11eb_88a3_945330256908row3_col5\" class=\"data row3 col5\" >$              39,488</td>\n",
       "                        <td id=\"T_2969a67e_bcd0_11eb_88a3_945330256908row3_col6\" class=\"data row3 col6\" >23.4000%</td>\n",
       "            </tr>\n",
       "    </tbody></table>"
      ],
      "text/plain": [
       "<pandas.io.formats.style.Styler at 0x2b1fa6d1ba8>"
      ]
     },
     "execution_count": 5,
     "metadata": {},
     "output_type": "execute_result"
    }
   ],
   "source": [
    "# Show first 20 entries from portfolio table after calculations\n",
    "\n",
    "# Change text color based on value\n",
    "def change_text_color(val):\n",
    "    color = 'red' if val < 0 else 'green'\n",
    "    return 'color: %s' % color\n",
    "\n",
    "# Show table with formatting\n",
    "portf.head(20).style \\\n",
    "    .applymap(change_text_color, subset=[\"Pct Change\",]) \\\n",
    "    .format({\n",
    "        \"Average Purchase Price\": \"${:20,.0f}\", \n",
    "        \"Last Adj Close\": \"${:20,.0f}\", \n",
    "        \"Book Value\": \"${:20,.0f}\",\n",
    "        \"Market Value\":\"${:20,.0f}\",\n",
    "        \"Pct Change\":\"{:.4%}\"})\\\n",
    "    .hide_index()"
   ]
  },
  {
   "cell_type": "code",
   "execution_count": 6,
   "metadata": {},
   "outputs": [
    {
     "data": {
      "image/png": "[encoded data removed]",
      "text/plain": [
       "<Figure size 576x360 with 1 Axes>"
      ]
     },
     "metadata": {
      "needs_background": "light"
     },
     "output_type": "display_data"
    }
   ],
   "source": [
    "# Plot\n",
    "labels = ['Book Value', 'Market Value']\n",
    "width = 0.35\n",
    "ttl_val = [portf[\"Book Value\"].sum(), portf[\"Market Value\"].sum()]\n",
    "\n",
    "fig, ax = plt.subplots(figsize =(8, 5))\n",
    "prev_val = np.zeros(2)\n",
    "\n",
    "# Plot stacked bar chart\n",
    "for i in range(len(portf.index)):\n",
    "    val = [portf[\"Book Value\"].iloc[i], portf[\"Market Value\"].iloc[i]]\n",
    "    sym = portf[\"Symbol\"].iloc[i]\n",
    "    ax.bar(labels, val, width, bottom=prev_val, label=sym)\n",
    "    prev_val += val\n",
    "\n",
    "# Add total portfolio value at top of bars\n",
    "for i, v in enumerate(ttl_val):\n",
    "    ax.text(i-0.06, v+50, '$'+str(round(v)), color='grey', fontweight='bold')    \n",
    "\n",
    "# Labels\n",
    "ax.set_ylabel('Amount ($)')\n",
    "ax.set_title('Portfolio Value')\n",
    "ax.legend(loc='lower center')\n",
    "fig.tight_layout()\n",
    "plt.show()"
   ]
  },
  {
   "cell_type": "markdown",
   "metadata": {},
   "source": [
    "## Portfolio Distribution"
   ]
  },
  {
   "cell_type": "code",
   "execution_count": 7,
   "metadata": {},
   "outputs": [
    {
     "data": {
      "image/png": "[encoded data removed]",
      "text/plain": [
       "<Figure size 864x360 with 2 Axes>"
      ]
     },
     "metadata": {},
     "output_type": "display_data"
    }
   ],
   "source": [
    "# Formatting \n",
    "style_dict={'fontsize': 12}\n",
    "sym = portf[\"Symbol\"]\n",
    "n = len(sym)\n",
    "\n",
    "# Creating plot\n",
    "fig = plt.figure(figsize =(12, 5))\n",
    "\n",
    "# Plot historical adjusted close price\n",
    "ax1 = fig.add_subplot(121)\n",
    "plt.pie(portf[\"Book Value\"], labels=sym, autopct='%0.1f%%', explode=[0.05]*n, textprops=style_dict)\n",
    "plt.title(\"Book Value\", fontsize=12)\n",
    "\n",
    "# Plot percentage change\n",
    "ax2 = fig.add_subplot(122)\n",
    "plt.pie(portf[\"Market Value\"], labels=sym, autopct='%0.1f%%', explode=[0.05]*n, textprops=style_dict)\n",
    "plt.title(\"Market Value\", fontsize=12)\n",
    "\n",
    "# show plot\n",
    "plt.suptitle('Portfolio Distribution', fontsize=14)\n",
    "fig.tight_layout()\n",
    "plt.show()"
   ]
  },
  {
   "cell_type": "markdown",
   "metadata": {},
   "source": [
    "## Optimization\n",
    "\n",
    "This section compares the current holdings against the distributions calculated using various portfolio optimization algorithms. \n",
    "\n",
    "Note: Much of the code in this section was leveraged from lecture notes, tutorials and assignments completed as part of the MIE1622 course (UofT)."
   ]
  },
  {
   "cell_type": "code",
   "execution_count": 8,
   "metadata": {},
   "outputs": [
    {
     "data": {
      "text/plain": [
       "array([[ 31.67432976, 767.89001465,  17.00006104],\n",
       "       [ 31.74341965, 750.        ,  16.90369034],\n",
       "       [ 31.46601486, 744.42999268,  16.7976799 ],\n",
       "       [ 31.06971741, 757.79998779,  16.49892807],\n",
       "       [ 31.4164772 , 758.        ,  16.94224167],\n",
       "       [ 32.56574249, 779.5       ,  17.61684418],\n",
       "       [ 34.61657715, 762.02001953,  18.30208015],\n",
       "       [ 34.19055557, 735.19000244,  18.69086456],\n",
       "       [ 35.92435455, 727.77001953,  20.62507439],\n",
       "       [ 37.36093903, 730.66998291,  20.68339348]])"
      ]
     },
     "execution_count": 8,
     "metadata": {},
     "output_type": "execute_result"
    }
   ],
   "source": [
    "# Get daily prices over last 12 months\n",
    "end_dt = date.today()\n",
    "start_dt = end_dt + relativedelta(months=-12)\n",
    "hist = pdr.DataReader(list(portf[\"Symbol\"]), start=start_dt, end=end_dt, data_source='yahoo')['Adj Close']\n",
    "\n",
    "# Exclude any assets that have not existed for the entire period\n",
    "hist_filt = hist.dropna(axis=1)\n",
    "sym = hist_filt.columns\n",
    "units = list(portf[portf[\"Symbol\"].isin(sym)][\"Units\"])\n",
    "\n",
    "# Get prices as numpy array\n",
    "prices = hist_filt.values\n",
    "prices[:10]"
   ]
  },
  {
   "cell_type": "code",
   "execution_count": 9,
   "metadata": {},
   "outputs": [],
   "source": [
    "# U.S. Normalized Risk-Free Rate Lowered from 3.0% to 2.5%, Effective June 30, 2020\n",
    "r_rf = 0.025\n",
    "\n",
    "# Daily risk-free rate\n",
    "dly_r_rf = r_rf / 252\n",
    "\n",
    "# Number of records\n",
    "Ns = prices.shape[0]\n",
    "\n",
    "# Compute means and covariances over time period\n",
    "cur_returns = prices[1:,:] / prices[:Ns-1,:] - 1\n",
    "cur_returns = cur_returns\n",
    "\n",
    "# Expected returns\n",
    "mu = np.mean(cur_returns, axis=0).reshape(cur_returns.shape[1],)\n",
    "# Covariances\n",
    "Q = np.cov(cur_returns.astype(float).T)\n",
    "# Number of assets\n",
    "n = prices.shape[1]\n",
    "\n",
    "# Store results\n",
    "results_df = pd.DataFrame(columns=[\"Portfolio\"]+list(sym))"
   ]
  },
  {
   "cell_type": "code",
   "execution_count": 10,
   "metadata": {},
   "outputs": [
    {
     "name": "stdout",
     "output_type": "stream",
     "text": [
      "Current portfolio:\n",
      "    Solution w: \n",
      "[0.00491319 0.95289515 0.04219166]\n",
      "    Variance = 0.0010834330156646434\n",
      "    Expected return = 0.0025456348074340642\n",
      "    Standard deviation = 0.032915543678703585\n"
     ]
    }
   ],
   "source": [
    "# Current portfolio\n",
    "curr_positions = np.array(units)\n",
    "# Initial value of the portfolio\n",
    "curr_value = np.dot(prices[0,:], curr_positions)\n",
    "# Portfolio weights\n",
    "w_curr = (prices[0,:] * curr_positions) / curr_value\n",
    "results_df.loc[0] = [\"Current Portfolio\"] + list(w_curr)\n",
    "var_curr = np.dot(w_curr, np.dot(Q, w_curr))\n",
    "ret_curr = np.dot(mu, w_curr)\n",
    "print(\"Current portfolio:\")\n",
    "print(\"    Solution w: \")\n",
    "print(w_curr)\n",
    "print(\"    Variance =\", var_curr)\n",
    "print(\"    Expected return =\", ret_curr)\n",
    "print(\"    Standard deviation =\", np.sqrt(var_curr))"
   ]
  },
  {
   "cell_type": "code",
   "execution_count": 11,
   "metadata": {},
   "outputs": [
    {
     "name": "stdout",
     "output_type": "stream",
     "text": [
      "Minimum variance portfolio:\n",
      "    Solution status = optimal\n",
      "    Solution value = 0.0003174251619237063\n",
      "    Solution w: \n",
      "[0.6340896  0.27016574 0.09574466]\n",
      "    Variance = 0.0003174251619237062\n",
      "    Expected return = 0.002129986248233989\n",
      "    Standard deviation = 0.017816429550381475\n"
     ]
    }
   ],
   "source": [
    "# Minimum variance portfolio\n",
    "w1 = cp.Variable(n)\n",
    "prob1 = cp.Problem(cp.Minimize(cp.quad_form(w1, Q)),\n",
    "                 [sum(w1) == 1,\n",
    "                  w1 >= 0])\n",
    "prob1.solve(solver=cp.CPLEX, verbose=False,cplex_params={\"qpmethod\": 6})\n",
    "\n",
    "# Results\n",
    "w_minVar = w1.value\n",
    "results_df.loc[1] = [\"Minimum Variance\"] + list(w_minVar)\n",
    "var_minVar = np.dot(w_minVar, np.dot(Q, w_minVar))\n",
    "ret_minVar = np.dot(mu, w_minVar)\n",
    "print(\"Minimum variance portfolio:\")\n",
    "print(\"    Solution status =\", prob1.status)\n",
    "print(\"    Solution value =\", prob1.value)\n",
    "print(\"    Solution w: \")\n",
    "print(w_minVar)\n",
    "print(\"    Variance =\", var_minVar)\n",
    "print(\"    Expected return =\", ret_minVar)\n",
    "print(\"    Standard deviation =\", np.sqrt(var_minVar))"
   ]
  },
  {
   "cell_type": "code",
   "execution_count": 12,
   "metadata": {},
   "outputs": [
    {
     "name": "stdout",
     "output_type": "stream",
     "text": [
      "Maximum return portfolio:\n",
      "    Solution status = optimal\n",
      "    Solution value = 0.002580329431709598\n",
      "    Solution w: \n",
      "[0. 1. 0.]\n",
      "    Variance = 0.0012067662864387327\n",
      "    Expected return = 0.002580329431709598\n",
      "    Standard deviation = 0.034738541800696424\n"
     ]
    }
   ],
   "source": [
    "# Maximum return portfolio of risky assets under no-short-sales constraint\n",
    "w2 = cp.Variable(n)\n",
    "prob2 = cp.Problem(cp.Maximize(mu.T@w2),\n",
    "                 [sum(w2) == 1,\n",
    "                  w2 >= 0])\n",
    "prob2.solve(solver=cp.CPLEX, verbose=False,cplex_params={\"qpmethod\": 6})\n",
    "\n",
    "w_maxRet = w2.value\n",
    "results_df.loc[2] = [\"Maximum Return\"] + list(w_maxRet)\n",
    "var_maxRet = np.dot(w_maxRet, np.dot(Q, w_maxRet))\n",
    "ret_maxRet = np.dot(mu, w_maxRet)\n",
    "print(\"Maximum return portfolio:\")\n",
    "print(\"    Solution status =\", prob2.status)\n",
    "print(\"    Solution value =\", prob2.value)\n",
    "print(\"    Solution w: \")\n",
    "print(w_maxRet)\n",
    "print(\"    Variance =\", var_maxRet)\n",
    "print(\"    Expected return =\", ret_maxRet)\n",
    "print(\"    Standard deviation =\", np.sqrt(var_maxRet))"
   ]
  },
  {
   "cell_type": "code",
   "execution_count": 13,
   "metadata": {},
   "outputs": [],
   "source": [
    "# Efficient frontier of risky assets under no-short-sales constraint\n",
    "# Target returns\n",
    "targetRet = np.linspace(ret_minVar,ret_maxRet,50)\n",
    "\n",
    "# Define optimization problem and compute one portfolio on efficient frontier\n",
    "w3 = cp.Variable(n)\n",
    "eps = cp.Parameter()\n",
    "eps.value = targetRet[0]\n",
    "prob3 = cp.Problem(cp.Minimize(cp.quad_form(w3, Q)),\n",
    "                 [mu.T@w3 >= eps,\n",
    "                  sum(w3) == 1,\n",
    "                  w3 >= 0])\n",
    "prob3.solve(solver=cp.CPLEX, verbose=False,cplex_params={\"qpmethod\": 6})\n",
    "\n",
    "# Compute efficient frontier\n",
    "w_front = []\n",
    "var_front = []\n",
    "ret_front = []\n",
    "for epsilon in targetRet:\n",
    "    eps.value = epsilon\n",
    "    prob3.solve(solver=cp.CPLEX, verbose=False,cplex_params={\"qpmethod\": 6})\n",
    "    w_front.append(w3.value)\n",
    "    var_front.append(np.dot(w3.value, np.dot(Q, w3.value)))\n",
    "    ret_front.append(np.dot(mu, w3.value))"
   ]
  },
  {
   "cell_type": "code",
   "execution_count": 14,
   "metadata": {},
   "outputs": [
    {
     "name": "stdout",
     "output_type": "stream",
     "text": [
      "Equally-weighted portfolio:\n",
      "    Solution w: \n",
      "[0.33333333 0.33333333 0.33333333]\n",
      "    Variance = 0.0003584881932670235\n",
      "    Expected return = 0.0021305337173081937\n",
      "    Standard deviation = 0.01893378444123159\n"
     ]
    }
   ],
   "source": [
    "# Equally-weighted (1/N) portfolio of risky assets\n",
    "w_eqlWt = np.ones(n)/n\n",
    "results_df.loc[3] = [\"Equally-weighted\"] + list(w_eqlWt)\n",
    "var_eqlWt = np.dot(w_eqlWt, np.dot(Q, w_eqlWt))\n",
    "ret_eqlWt = np.dot(mu, w_eqlWt)\n",
    "print(\"Equally-weighted portfolio:\")\n",
    "print(\"    Solution w: \")\n",
    "print(w_eqlWt)\n",
    "print(\"    Variance =\", var_eqlWt)\n",
    "print(\"    Expected return =\", ret_eqlWt)\n",
    "print(\"    Standard deviation =\", np.sqrt(var_eqlWt))"
   ]
  },
  {
   "cell_type": "code",
   "execution_count": 15,
   "metadata": {},
   "outputs": [
    {
     "name": "stdout",
     "output_type": "stream",
     "text": [
      "Maximum Sharpe Ratio portfolio:\n",
      "    Solution status = optimal\n",
      "    Solution value = 75.612857433571\n",
      "    Solution w: \n",
      "[0.59931102 0.32576512 0.07492386]\n",
      "    Variance = 0.0003231181376449576\n",
      "    Expected return = 0.002166408000656843\n",
      "    Standard deviation = 0.017975487132341022\n"
     ]
    }
   ],
   "source": [
    "# Maximum Sharpe ratio portfolio under no-short-sales constraint\n",
    "w4 = cp.Variable(n)\n",
    "prob4 = cp.Problem(cp.Minimize(cp.quad_form(w4, Q)),\n",
    "                 [((mu - dly_r_rf).T@w4) == 1,\n",
    "                  w4 >= 0])\n",
    "prob4.solve(solver=cp.CPLEX, verbose=False,cplex_params={\"qpmethod\": 6})\n",
    "\n",
    "# Calculate w = w4/k where k=sum(w4)\n",
    "w_maxShp = w4.value/sum(w4.value)\n",
    "results_df.loc[4] = [\"Maximum Sharpe Ratio\"] + list(w_maxShp)\n",
    "var_maxShp = np.dot(w_maxShp, np.dot(Q, w_maxShp))\n",
    "ret_maxShp = np.dot(mu, w_maxShp)\n",
    "print(\"Maximum Sharpe Ratio portfolio:\")\n",
    "print(\"    Solution status =\", prob4.status)\n",
    "print(\"    Solution value =\", prob4.value)\n",
    "print(\"    Solution w: \")\n",
    "print(w_maxShp)\n",
    "print(\"    Variance =\", var_maxShp)\n",
    "print(\"    Expected return =\", ret_maxShp)\n",
    "print(\"    Standard deviation =\", np.sqrt(var_maxShp))"
   ]
  },
  {
   "cell_type": "code",
   "execution_count": 18,
   "metadata": {},
   "outputs": [
    {
     "data": {
      "image/png": "[encoded data removed]",
      "text/plain": [
       "<Figure size 864x360 with 1 Axes>"
      ]
     },
     "metadata": {
      "needs_background": "light"
     },
     "output_type": "display_data"
    }
   ],
   "source": [
    "# Plot all portfolios\n",
    "ax = plt.gca()\n",
    "plt.rcParams['figure.figsize'] = [12, 5]\n",
    "\n",
    "# Plot minimum variance portfolio\n",
    "ax.scatter(x=np.sqrt(var_minVar), y=ret_minVar, marker='s', s=100,  color='tab:green', \n",
    "           label='minimum variance portfolio')\n",
    "\n",
    "# Plot maximum return portfolio\n",
    "ax.scatter(x=np.sqrt(var_maxRet), y=ret_maxRet,  marker='s', s=100, color='tab:red', \n",
    "           label='maximum return portfolio')\n",
    "\n",
    "# Plot efficient frontier\n",
    "ax.plot(np.sqrt(var_front), ret_front, '-', color='black', label='efficient frontier')\n",
    "\n",
    "# Plot equally weighted portfolio\n",
    "ax.scatter(x=np.sqrt(var_eqlWt), y=ret_eqlWt,  marker='s', s=100, color='tab:blue', \n",
    "           label='equally weighted portfolio')\n",
    "\n",
    "# Plot maximum Sharpe portfolio\n",
    "ax.scatter(x=np.sqrt(var_maxShp), y=ret_maxShp,  marker='s', s=100, color='tab:pink', \n",
    "           label='maximum Sharpe ratio portfolio')\n",
    "\n",
    "# Plot current portfolio\n",
    "ax.scatter(x=np.sqrt(var_curr), y=ret_curr,  marker='*', s=300, color='tab:orange', \n",
    "           label='current portfolio')\n",
    "\n",
    "# Plot volatility versus expected return for individual stocks\n",
    "x_ind = np.sqrt(np.diag(Q))\n",
    "ax.scatter(x=x_ind, y=mu, s=70, color='tab:grey', label='individual stocks')\n",
    "for i in range(len(x_ind)):\n",
    "    ax.annotate(sym[i], (x_ind[i], mu[i]), ha='center', va='bottom')\n",
    "\n",
    "# Format and display the final plot\n",
    "ax.axis([0, 1.2*np.max(np.sqrt(np.diag(Q))), np.min(mu)-0.1*(np.max(mu)-np.min(mu)), 1.1*ret_maxRet])\n",
    "ax.set_xlabel('Daily Volatility (Standard Deviation)')\n",
    "ax.set_ylabel('Daily Expected Return')\n",
    "plt.title('Portfolios')\n",
    "ax.legend(loc=\"upper left\")\n",
    "ax.grid()\n",
    "fig.tight_layout()\n",
    "plt.show()"
   ]
  },
  {
   "cell_type": "code",
   "execution_count": 17,
   "metadata": {},
   "outputs": [
    {
     "name": "stdout",
     "output_type": "stream",
     "text": [
      "Total book value: $112,150.00\n",
      "Total market value: $155,631.50\n"
     ]
    },
    {
     "data": {
      "image/png": "[encoded data removed]",
      "text/plain": [
       "<Figure size 720x216 with 1 Axes>"
      ]
     },
     "metadata": {
      "needs_background": "light"
     },
     "output_type": "display_data"
    }
   ],
   "source": [
    "print('Total book value: ${:,.2f}'.format(portf[\"Book Value\"].sum()))\n",
    "print('Total market value: ${:,.2f}'.format(portf[\"Market Value\"].sum()))\n",
    "\n",
    "# Round values\n",
    "results_df = results_df.round(4)\n",
    "\n",
    "# Plot pretty table\n",
    "fig, ax = plt.subplots(figsize=(10,3))\n",
    "table = ax.table(\n",
    "    cellText=results_df.values, \n",
    "    colLabels=results_df.columns, \n",
    "    colColours=np.full(len(results_df.columns), \"#CCD9C7\"),\n",
    "    cellLoc ='center', \n",
    "    loc ='upper left')\n",
    "\n",
    "#hide the axes\n",
    "plt.axis('off') \n",
    "\n",
    "# Scale the table for better margins\n",
    "table.scale(1, 2)\n",
    "\n",
    "#display table\n",
    "fig.tight_layout()\n",
    "plt.show()"
   ]
  },
  {
   "cell_type": "markdown",
   "metadata": {},
   "source": [
    "### Discussion\n",
    "\n",
    "When using the sample portfolio provided, the current portfolio already lies on the efficient frontier. The SHOP units account for more than 95% of the holdings.\n",
    "\n",
    "If the portfolio were modified to only hold shares of SHOP, then the portfolio allocation would be equivalent to that of the Maximum Return portfolio. Although this would maximize the potential return based on past performance, this portfolio would be riskier since it is less diverse.\n",
    "\n",
    "The volatility of this portfolio could be reduced by increasing the weights of the other assets. Of course this would also lower the expected return."
   ]
  },
  {
   "cell_type": "code",
   "execution_count": null,
   "metadata": {},
   "outputs": [],
   "source": []
  }
 ],
 "metadata": {
  "kernelspec": {
   "display_name": "Python 3",
   "language": "python",
   "name": "python3"
  },
  "language_info": {
   "codemirror_mode": {
    "name": "ipython",
    "version": 3
   },
   "file_extension": ".py",
   "mimetype": "text/x-python",
   "name": "python",
   "nbconvert_exporter": "python",
   "pygments_lexer": "ipython3",
   "version": "3.7.3"
  }
 },
 "nbformat": 4,
 "nbformat_minor": 2
}
